{
 "cells": [
  {
   "cell_type": "markdown",
   "metadata": {},
   "source": [
    "## HW 2 - Algorithms and Applications in Social Networks"
   ]
  },
  {
   "cell_type": "markdown",
   "metadata": {},
   "source": [
    "Names & IDs:\n",
    "\n",
    "Yonatan Voikhansky, 315398339\n",
    "\n",
    "Ariel Ireni, 313914970"
   ]
  },
  {
   "cell_type": "code",
   "execution_count": 14,
   "metadata": {},
   "outputs": [],
   "source": [
    "from scipy.stats.distributions import nakagami\n",
    "import networkx as nx\n",
    "import matplotlib.pyplot as plt\n",
    "import random\n",
    "import numpy as np"
   ]
  },
  {
   "cell_type": "markdown",
   "metadata": {},
   "source": [
    "## Question 1\n",
    "### Part A"
   ]
  },
  {
   "cell_type": "code",
   "execution_count": 15,
   "metadata": {},
   "outputs": [],
   "source": [
    "def get_edge_betweenness(G):\n",
    "    betweennes_dict = dict()\n",
    "    for edge in G.edges:\n",
    "        count_e_in_path = 0\n",
    "        for node_s in G.nodes:\n",
    "            for node_t in G.nodes:\n",
    "                if node_t != node_s:\n",
    "                    all_shortest_paths = list(nx.all_shortest_paths(G, node_s, node_t))\n",
    "                    sum_in_paths = 0\n",
    "                    for path in all_shortest_paths:\n",
    "                        for i in range(0, len(path)-1):\n",
    "                            for j in range(i+1, len(path)):\n",
    "                                if edge == (path[i], path[j]):\n",
    "                                    sum_in_paths += 1\n",
    "                    \n",
    "                    count_e_in_path += sum_in_paths / len(all_shortest_paths)\n",
    "\n",
    "        betweennes_dict[edge] = count_e_in_path\n",
    "    return betweennes_dict\n",
    "\n",
    "def test_Q2a():\n",
    "    G = nx.gnp_random_graph(n=10, p=.3)\n",
    "    result = get_edge_betweenness(G)\n",
    "    # print(nx.edge_betweenness_centrality(G, normalized=False) == result)\n",
    "\n",
    "test_Q2a()\n",
    "\n",
    "# TODO: handle numerial issues"
   ]
  },
  {
   "cell_type": "code",
   "execution_count": 16,
   "metadata": {},
   "outputs": [
    {
     "data": {
      "text/plain": [
       "[{0, 1, 3, 4, 5, 6, 7, 10, 11, 12, 13, 16, 17, 19, 21},\n",
       " {2, 8, 9, 14, 15, 18, 20, 22, 23, 24, 25, 26, 27, 28, 29, 30, 31, 32, 33}]"
      ]
     },
     "execution_count": 16,
     "metadata": {},
     "output_type": "execute_result"
    }
   ],
   "source": [
    "def Newman_Girvan(G, k):\n",
    "    G = G.copy()\n",
    "    while len(G.edges) > 0:\n",
    "        # cent_dict = get_edge_betweenness(G)\n",
    "        cent_dict = nx.edge_betweenness(G)\n",
    "        max_edge = max(cent_dict, key=cent_dict.get)\n",
    "        G.remove_edge(*max_edge)\n",
    "        if nx.number_connected_components(G) == k:\n",
    "            return list(nx.connected_components(G))\n",
    "\n",
    "G = nx.karate_club_graph()\n",
    "Newman_Girvan(G, 2)\n"
   ]
  },
  {
   "cell_type": "markdown",
   "metadata": {},
   "source": [
    "### Part B"
   ]
  },
  {
   "cell_type": "code",
   "execution_count": 84,
   "metadata": {},
   "outputs": [
    {
     "name": "stdout",
     "output_type": "stream",
     "text": [
      "Community: \n",
      "['260', '342', '84', '107', '322', '21', '280', '127', '122', '330', '315', '180', '200', '106', '148', '24', '203', '132', '57', '208', '55', '329', '336', '295', '288', '64', '229', '281', '120', '166', '7', '303', '188', '56', '58', '300', '161', '163', '196', '207', '277', '246', '172', '117', '141', '101', '45', '271', '258', '332', '36', '257', '65', '235', '53', '129', '344', '30', '339', '224', '27', '103', '249', '187', '73', '31', '85', '269', '198', '250', '272', '211', '346', '9', '270', '34', '171', '113', '340', '16', '222', '13', '105', '221', '231', '156', '237', '164', '299', '285', '341', '72', '290', '268', '100', '158', '345', '136', '284', '318', '60', '274', '169', '98', '168', '324', '67', '254', '228', '75', '294', '184', '29', '325', '323', '186', '194', '176', '48', '189', '347', '79', '77', '314', '265', '76', '146', '191', '276', '320', '212', '286', '204', '130', '54', '199', '133', '197', '128', '304', '94', '81', '165', '50', '202', '173', '87', '66', '5', '121', '82', '88', '223', '119', '108', '313', '135', '142', '134', '109', '63', '139', '153', '238', '308', '331', '40', '261', '178', '301', '96', '252', '206', '160', '51', '338', '170', '83', '266', '213', '1', '22', '309', '247', '248', '123', '125', '239', '302', '39', '242', '232', '118', '251', '234', '104', '92', '190', '297', '69', '311', '183', '334', '80', '10', '317', '236', '26', '59', '150', '159', '298', '38', '126', '316', '283', '291', '185', '25', '217', '62', '3', '47']\n",
      "Community: \n",
      "['28', '20', '70', '151', '144', '155', '182', '149', '262', '327', '312', '307', '333', '174', '263', '131', '253', '241', '220', '192', '214', '14', '95', '278', '226', '61', '230', '111', '32', '175', '110', '17', '326', '319', '93', '143', '240', '296', '116', '19', '8', '227', '337', '205', '137', '124', '91', '41', '52', '245', '289', '97', '162', '140', '279', '255', '102', '216', '201', '2', '310', '35', '259', '343', '86', '89', '225', '154', '321', '264', '23', '293', '193', '177', '44', '267', '71', '68', '305', '157', '147', '99', '6', '138', '243', '167', '49', '46', '219', '112', '115']\n",
      "Community: \n",
      "['4', '306', '181', '195', '218', '152', '328', '273', '78', '275']\n"
     ]
    }
   ],
   "source": [
    "import requests\n",
    "\n",
    "def get_biggest_connected_component():\n",
    "    headers = {\n",
    "        'user-agent': 'Mozilla/5.0 (Macintosh; Intel Mac OS X 10_15_7) AppleWebKit/537.36 (KHTML, like Gecko) Chrome/102.0.0.0 Safari/537.36',\n",
    "    }\n",
    "\n",
    "    response = requests.get(\"http://slavanov.com/teaching/sn1718b/data/communities.txt\", headers=headers)\n",
    "    data = response.text\n",
    "    data = data.split(\"\\n\")\n",
    "    edges = []\n",
    "    for line in data:\n",
    "        line = line.split(\" \")\n",
    "        edges.append(line)\n",
    "    edges = edges[:-1]\n",
    "\n",
    "    G = nx.from_edgelist(edges)\n",
    "    largest_cc = max(nx.connected_components(G), key=len)\n",
    "    G_comp = nx.subgraph(G, list(largest_cc))\n",
    "    return G_comp\n",
    "\n",
    "def Newman_Girvan_largest_component():\n",
    "    G_comp = get_biggest_connected_component()\n",
    "    communities = Newman_Girvan(G_comp, 3)\n",
    "    return [list(comm) for comm in communities]\n",
    "\n",
    "\n",
    "lst = Newman_Girvan_largest_component()\n",
    "for comm in lst:\n",
    "    print(\"Community: \")\n",
    "    print(comm)"
   ]
  },
  {
   "cell_type": "markdown",
   "metadata": {},
   "source": [
    "## Question 2\n",
    "### Part A"
   ]
  },
  {
   "cell_type": "code",
   "execution_count": 78,
   "metadata": {},
   "outputs": [],
   "source": [
    "def get_k_clique_communities(G, k):\n",
    "\t# find all maximal cliques\n",
    "\tmaximal_cliques = list(nx.find_cliques(G))\n",
    "\t\n",
    "\t# create clique overlap matrix\n",
    "\tn = len(maximal_cliques)\n",
    "\toverlap_matrix = [[0 for col in range(n)] for row in range(n)]\n",
    "\tfor i in range(len(maximal_cliques)):\n",
    "\t\tc_1 = maximal_cliques[i]\n",
    "\t\t\n",
    "\t\tfor j in range(len(maximal_cliques)):\n",
    "\t\t\tcount_overlap = 0\n",
    "\t\t\tc_2 = maximal_cliques[j]\n",
    "\t\t\tfor node in c_2:\n",
    "\t\t\t\tif node in c_1: \n",
    "\t\t\t\t\tcount_overlap += 1\n",
    "\n",
    "\t\t\toverlap_matrix[i][j] = count_overlap\n",
    "\n",
    "\t# treshold matrix with k-1\n",
    "\tfor i in range(len(overlap_matrix)):\n",
    "\t\tfor j in range(len(overlap_matrix)):\n",
    "\t\t\tif i == j:\n",
    "\t\t\t\tif overlap_matrix[i][j] < k:\n",
    "\t\t\t\t\toverlap_matrix[i][j] = 0\n",
    "\t\t\t\telse:\n",
    "\t\t\t\t\toverlap_matrix[i][j] = 1\n",
    "\t\t\telse:\n",
    "\t\t\t\tif overlap_matrix[i][j] < k-1:\n",
    "\t\t\t\t\toverlap_matrix[i][j] = 0\n",
    "\t\t\t\telse:\n",
    "\t\t\t\t\toverlap_matrix[i][j] = 1\t\n",
    "\t\t\t\t\t\n",
    "    \t# communities are connected components\n",
    "\tA = np.array(overlap_matrix)\n",
    "\n",
    "\tG_c = nx.from_numpy_matrix(A, create_using=nx.MultiGraph)\n",
    "\t\n",
    "\tto_be_removed = [x for  x in G_c.nodes() if G_c.degree(x) < 1]\n",
    "\tfor x in to_be_removed:\n",
    "\t\tG_c.remove_node(x)\n",
    "\t\n",
    "\tcliques_comp = list(nx.connected_components(G_c))\n",
    "\n",
    "\t# [[0, 1, 4] [5]]\n",
    "\tcommunities = []\n",
    "\n",
    "\tfor comp in list(cliques_comp):\n",
    "\t\tcurr_community = []\n",
    "\t\tfor clique in comp:\n",
    "\t\t\tcurr_community = curr_community + maximal_cliques[clique]\n",
    "\t\n",
    "\t\tcommunities.append(set(curr_community))\n",
    "\n",
    "\treturn communities\n"
   ]
  },
  {
   "cell_type": "code",
   "execution_count": 81,
   "metadata": {},
   "outputs": [
    {
     "name": "stdout",
     "output_type": "stream",
     "text": [
      "[{1, 2, 3, 4}, {3, 4, 6, 7, 8, 9, 10}]\n"
     ]
    }
   ],
   "source": [
    "def test_2a():\n",
    "\tG = nx.from_edgelist([(1,2), (1,3), (1,4), (2,4), (3,4), (2,3), (2,5), (2,6), (5,6), (4,6), (6,7), (4,7), (6,8), (7,8), (4,8), (3,9), (9,10), (10,4), (10,8), (10,6), (9,6), (3,10), (4,9), (8,9)])\n",
    "\tprint(get_k_clique_communities(G, 4))\n",
    "\n",
    "test_2a()"
   ]
  },
  {
   "cell_type": "markdown",
   "metadata": {},
   "source": [
    "#### Part B"
   ]
  },
  {
   "cell_type": "code",
   "execution_count": 90,
   "metadata": {},
   "outputs": [],
   "source": [
    "from networkx.algorithms.community import k_clique_communities\n",
    "\n",
    "def k_clique_largest_component():\n",
    "\tG_comp = get_biggest_connected_component()\n",
    "\treturn get_k_clique_communities(G_comp, 4)\n",
    "\n",
    "def test_2b():\n",
    "\tour_communities = k_clique_largest_component()\n",
    "\tG_comp = get_biggest_connected_component()\n",
    "\ttheir_communities = list(k_clique_communities(G_comp, 4))\n",
    "\tassert len(our_communities) == len(their_communities)\n",
    "\tfor i in range(len(our_communities)):\n",
    "\t\tassert sorted(our_communities[i]) == sorted(their_communities[i])\n",
    "\n",
    "\n",
    "test_2b()"
   ]
  }
 ],
 "metadata": {
  "kernelspec": {
   "display_name": "Python 3.9.4",
   "language": "python",
   "name": "python3"
  },
  "language_info": {
   "codemirror_mode": {
    "name": "ipython",
    "version": 3
   },
   "file_extension": ".py",
   "mimetype": "text/x-python",
   "name": "python",
   "nbconvert_exporter": "python",
   "pygments_lexer": "ipython3",
   "version": "3.9.4"
  },
  "orig_nbformat": 4,
  "vscode": {
   "interpreter": {
    "hash": "c6e4e9f98eb68ad3b7c296f83d20e6de614cb42e90992a65aa266555a3137d0d"
   }
  }
 },
 "nbformat": 4,
 "nbformat_minor": 2
}

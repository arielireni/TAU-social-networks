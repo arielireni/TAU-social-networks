{
 "cells": [
  {
   "cell_type": "markdown",
   "metadata": {},
   "source": [
    "## HW 2 - Algorithms and Applications in Social Networks"
   ]
  },
  {
   "cell_type": "markdown",
   "metadata": {},
   "source": [
    "Names & IDs:\n",
    "\n",
    "Yonatan Voikhansky, 315398339\n",
    "\n",
    "Ariel Ireni, 313914970"
   ]
  },
  {
   "cell_type": "code",
   "execution_count": 25,
   "metadata": {},
   "outputs": [],
   "source": [
    "import networkx as nx\n",
    "import numpy as np\n",
    "from networkx.algorithms import community\n",
    "import requests\n",
    "from networkx.algorithms.community import k_clique_communities"
   ]
  },
  {
   "cell_type": "markdown",
   "metadata": {},
   "source": [
    "## Question 1\n",
    "### Part A"
   ]
  },
  {
   "cell_type": "code",
   "execution_count": 33,
   "metadata": {},
   "outputs": [],
   "source": [
    "def Newman_Girvan(G, k):\n",
    "    G = G.copy()\n",
    "    removal_queue = list()\n",
    "    while len(G.edges) > 0:\n",
    "        cent_dict = nx.edge_betweenness(G)\n",
    "        max_edge = max(cent_dict, key=cent_dict.get)\n",
    "        removal_queue.append(max_edge)\n",
    "        G.remove_edge(*max_edge)\n",
    "\n",
    "    while len(removal_queue) > 0:\n",
    "        curr_edge = removal_queue.pop()\n",
    "        G.add_edge(curr_edge[0], curr_edge[1])\n",
    "        if nx.number_connected_components(G) == k:\n",
    "            return list(nx.connected_components(G))\n",
    "    \n",
    "    return None\n",
    "\n",
    "def test_q1a():\n",
    "    G = nx.karate_club_graph()\n",
    "    our_result = Newman_Girvan(G, 2)\n",
    "    their_result = list(community.girvan_newman(G))[0]\n",
    "    assert our_result == list(their_result)\n",
    "\n",
    "test_q1a()"
   ]
  },
  {
   "cell_type": "markdown",
   "metadata": {},
   "source": [
    "### Part B"
   ]
  },
  {
   "cell_type": "code",
   "execution_count": 27,
   "metadata": {},
   "outputs": [
    {
     "name": "stdout",
     "output_type": "stream",
     "text": [
      "Community 1: \n",
      "['288', '85', '246', '204', '291', '64', '107', '21', '303', '249', '24', '301', '105', '340', '228', '234', '92', '106', '271', '284', '176', '222', '156', '30', '238', '57', '164', '194', '250', '34', '122', '320', '50', '277', '191', '187', '300', '274', '217', '51', '232', '94', '166', '54', '180', '185', '231', '136', '224', '123', '266', '38', '269', '190', '3', '148', '126', '183', '184', '329', '1', '5', '314', '84', '121', '280', '178', '16', '87', '25', '206', '103', '196', '142', '242', '31', '83', '251', '189', '169', '208', '247', '117', '128', '62', '173', '252', '45', '309', '239', '304', '324', '272', '257', '302', '108', '261', '135', '69', '211', '53', '66', '76', '313', '318', '120', '9', '283', '82', '168', '134', '132', '268', '56', '344', '153', '73', '163', '270', '79', '276', '338', '330', '315', '342', '258', '198', '10', '317', '165', '345', '80', '172', '186', '295', '316', '26', '39', '308', '88', '223', '299', '113', '101', '100', '129', '260', '125', '236', '170', '297', '150', '203', '311', '336', '202', '171', '104', '323', '237', '158', '281', '347', '29', '98', '127', '36', '72', '294', '160', '139', '118', '290', '197', '254', '331', '159', '199', '141', '298', '229', '13', '59', '75', '207', '286', '119', '325', '133', '161', '146', '47', '212', '109', '48', '341', '63', '188', '322', '77', '346', '221', '130', '332', '40', '58', '65', '200', '55', '81', '213', '248', '235', '96', '27', '334', '265', '67', '285', '22', '7', '339', '60']\n",
      "\n",
      "Community 2: \n",
      "['71', '326', '61', '19', '144', '68', '245', '337', '241', '319', '91', '230', '264', '6', '93', '32', '131', '162', '115', '174', '138', '278', '2', '149', '289', '167', '157', '41', '110', '267', '97', '175', '182', '262', '293', '35', '14', '155', '154', '177', '102', '225', '307', '240', '192', '312', '216', '226', '28', '20', '143', '116', '44', '111', '46', '227', '124', '86', '259', '219', '147', '49', '310', '255', '327', '333', '89', '95', '201', '99', '305', '137', '220', '70', '243', '23', '296', '112', '17', '214', '321', '205', '279', '8', '151', '140', '193', '343', '52', '263', '253']\n",
      "\n",
      "Community 3: \n",
      "['4', '273', '328', '218', '195', '275', '306', '181', '78', '152']\n",
      "\n"
     ]
    }
   ],
   "source": [
    "def get_biggest_connected_component():\n",
    "    headers = {\n",
    "        'user-agent': 'Mozilla/5.0 (Macintosh; Intel Mac OS X 10_15_7) AppleWebKit/537.36 (KHTML, like Gecko) Chrome/102.0.0.0 Safari/537.36',\n",
    "    }\n",
    "\n",
    "    response = requests.get(\"http://slavanov.com/teaching/sn1718b/data/communities.txt\", headers=headers)\n",
    "    data = response.text\n",
    "    data = data.split(\"\\n\")\n",
    "    edges = []\n",
    "    for line in data:\n",
    "        line = line.split(\" \")\n",
    "        edges.append(line)\n",
    "    edges = edges[:-1]\n",
    "\n",
    "    G = nx.from_edgelist(edges)\n",
    "    largest_cc = max(nx.connected_components(G), key=len)\n",
    "    G_comp = nx.subgraph(G, list(largest_cc))\n",
    "    return G_comp\n",
    "\n",
    "def Newman_Girvan_largest_component():\n",
    "    G_comp = get_biggest_connected_component()\n",
    "    communities = Newman_Girvan(G_comp, 3)\n",
    "    return [list(comm) for comm in communities]\n",
    "\n",
    "lst = Newman_Girvan_largest_component()\n",
    "for i in range(len(lst)):\n",
    "    print(f\"Community {i+1}: \\n{lst[i]}\\n\")"
   ]
  },
  {
   "cell_type": "markdown",
   "metadata": {},
   "source": [
    "#### Part C - in the PDF file"
   ]
  },
  {
   "cell_type": "markdown",
   "metadata": {},
   "source": [
    "## Question 2\n",
    "### Part A"
   ]
  },
  {
   "cell_type": "code",
   "execution_count": 28,
   "metadata": {},
   "outputs": [],
   "source": [
    "def get_k_clique_communities(G, k):\n",
    "\t# find all maximal cliques\n",
    "\tmaximal_cliques = list(nx.find_cliques(G))\n",
    "\t\n",
    "\t# create clique overlap matrix\n",
    "\tn = len(maximal_cliques)\n",
    "\toverlap_matrix = [[0 for col in range(n)] for row in range(n)]\n",
    "\tfor i in range(len(maximal_cliques)):\n",
    "\t\tc_1 = maximal_cliques[i]\n",
    "\t\t\n",
    "\t\tfor j in range(len(maximal_cliques)):\n",
    "\t\t\tcount_overlap = 0\n",
    "\t\t\tc_2 = maximal_cliques[j]\n",
    "\t\t\tfor node in c_2:\n",
    "\t\t\t\tif node in c_1: \n",
    "\t\t\t\t\tcount_overlap += 1\n",
    "\n",
    "\t\t\toverlap_matrix[i][j] = count_overlap\n",
    "\n",
    "\t# treshold matrix with k-1\n",
    "\tfor i in range(len(overlap_matrix)):\n",
    "\t\tfor j in range(len(overlap_matrix)):\n",
    "\t\t\tif i == j:\n",
    "\t\t\t\tif overlap_matrix[i][j] < k:\n",
    "\t\t\t\t\toverlap_matrix[i][j] = 0\n",
    "\t\t\t\telse:\n",
    "\t\t\t\t\toverlap_matrix[i][j] = 1\n",
    "\t\t\telse:\n",
    "\t\t\t\tif overlap_matrix[i][j] < k-1:\n",
    "\t\t\t\t\toverlap_matrix[i][j] = 0\n",
    "\t\t\t\telse:\n",
    "\t\t\t\t\toverlap_matrix[i][j] = 1\t\n",
    "\t\t\t\t\t\n",
    "    \t# communities are connected components\n",
    "\tA = np.array(overlap_matrix)\n",
    "\n",
    "\tG_c = nx.from_numpy_matrix(A, create_using=nx.MultiGraph)\n",
    "\t\n",
    "\tto_be_removed = [x for  x in G_c.nodes() if G_c.degree(x) < 1]\n",
    "\tfor x in to_be_removed:\n",
    "\t\tG_c.remove_node(x)\n",
    "\t\n",
    "\tcliques_comp = list(nx.connected_components(G_c))\n",
    "\n",
    "\n",
    "\tcommunities = []\n",
    "\tfor comp in list(cliques_comp):\n",
    "\t\tcurr_community = []\n",
    "\t\tfor clique in comp:\n",
    "\t\t\tcurr_community = curr_community + maximal_cliques[clique]\n",
    "\t\n",
    "\t\tcommunities.append(set(curr_community))\n",
    "\n",
    "\treturn communities\n",
    "\n",
    "def test_2a():\n",
    "\tG = nx.from_edgelist([(1,2), (1,3), (1,4), (2,4), (3,4), (2,3), (2,5), (2,6), (5,6), (4,6), (6,7), (4,7), (6,8), (7,8), (4,8), (3,9), (9,10), (10,4), (10,8), (10,6), (9,6), (3,10), (4,9), (8,9)])\n",
    "\tassert get_k_clique_communities(G, 4) == [{1, 2, 3, 4}, {3, 4, 6, 7, 8, 9, 10}]\n",
    "\n",
    "test_2a()"
   ]
  },
  {
   "cell_type": "markdown",
   "metadata": {},
   "source": [
    "#### Part B"
   ]
  },
  {
   "cell_type": "code",
   "execution_count": 29,
   "metadata": {},
   "outputs": [],
   "source": [
    "def k_clique_largest_component():\n",
    "\tG_comp = get_biggest_connected_component()\n",
    "\treturn get_k_clique_communities(G_comp, 4)\n",
    "\n",
    "def test_2b():\n",
    "\tour_communities = k_clique_largest_component()\n",
    "\tG_comp = get_biggest_connected_component()\n",
    "\ttheir_communities = list(k_clique_communities(G_comp, 4))\n",
    "\tassert len(our_communities) == len(their_communities)\n",
    "\tfor i in range(len(our_communities)):\n",
    "\t\tassert sorted(our_communities[i]) == sorted(their_communities[i])\n",
    "\n",
    "\n",
    "test_2b()"
   ]
  },
  {
   "cell_type": "markdown",
   "metadata": {},
   "source": [
    "#### Part C - in the PDF file"
   ]
  },
  {
   "cell_type": "markdown",
   "metadata": {},
   "source": [
    "### Questions 3, 4, 5, 6 - in the PDF file"
   ]
  }
 ],
 "metadata": {
  "kernelspec": {
   "display_name": "Python 3.9.4",
   "language": "python",
   "name": "python3"
  },
  "language_info": {
   "codemirror_mode": {
    "name": "ipython",
    "version": 3
   },
   "file_extension": ".py",
   "mimetype": "text/x-python",
   "name": "python",
   "nbconvert_exporter": "python",
   "pygments_lexer": "ipython3",
   "version": "3.9.4"
  },
  "orig_nbformat": 4,
  "vscode": {
   "interpreter": {
    "hash": "c6e4e9f98eb68ad3b7c296f83d20e6de614cb42e90992a65aa266555a3137d0d"
   }
  }
 },
 "nbformat": 4,
 "nbformat_minor": 2
}
